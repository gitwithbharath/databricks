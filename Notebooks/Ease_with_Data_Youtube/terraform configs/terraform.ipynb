{
 "cells": [
  {
   "cell_type": "code",
   "execution_count": 0,
   "metadata": {
    "application/vnd.databricks.v1+cell": {
     "cellMetadata": {},
     "inputWidgets": {},
     "nuid": "6d01eded-6f94-4537-b861-615e84d2520b",
     "showTitle": false,
     "tableResultSettingsMap": {},
     "title": ""
    }
   },
   "outputs": [],
   "source": [
    "provider \"databricks\" {\n",
    "  alias  = \"account1\"\n",
    "  host   = \"https://accounts.cloud.databricks.com\"\n",
    "  account_id = var.databricks_account_id # \"ec53f7aa-d3d0-40b4-b836-d182d8709758\"\n",
    "  client_id  = var.client_id # \"aea19d4e-2c55-480f-89ee-a52147a798a3\"\n",
    "  client_secret = var.client_secret # \"dosebf64d0830396043cec78d297642b8503\"\n",
    "}\n",
    "\n",
    "resource \"databricks_metastore\" \"uc_metastore\" {\n",
    "  provider = databricks.account\n",
    "\n",
    "  name         = \"my-unity-metastore\"\n",
    "  region       = \"us-west-2\"\n",
    "  storage_root = \"s3://my-unity-catalog-root-bucket\"\n",
    "}\n",
    "\n",
    "resource \"databricks_metastore_assignment\" \"assign_uc\" {\n",
    "  provider     = databricks.account\n",
    "  workspace_id = var.workspace_id\n",
    "  metastore_id = databricks_metastore.uc_metastore.id\n",
    "  default_catalog_name = \"main\"\n",
    "}"
   ]
  }
 ],
 "metadata": {
  "application/vnd.databricks.v1+notebook": {
   "computePreferences": null,
   "dashboards": [],
   "environmentMetadata": {
    "base_environment": "",
    "environment_version": "2"
   },
   "inputWidgetPreferences": null,
   "language": "python",
   "notebookMetadata": {
    "pythonIndentUnit": 4
   },
   "notebookName": "terraform",
   "widgets": {}
  },
  "language_info": {
   "name": "python"
  }
 },
 "nbformat": 4,
 "nbformat_minor": 0
}
