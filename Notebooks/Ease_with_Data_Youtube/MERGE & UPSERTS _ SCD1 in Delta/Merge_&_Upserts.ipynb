{
 "cells": [
  {
   "cell_type": "code",
   "execution_count": 0,
   "metadata": {
    "application/vnd.databricks.v1+cell": {
     "cellMetadata": {
      "byteLimit": 2048000,
      "rowLimit": 10000
     },
     "inputWidgets": {},
     "nuid": "7073d258-66c0-42d7-92cd-2e43e3447e44",
     "showTitle": false,
     "tableResultSettingsMap": {},
     "title": ""
    }
   },
   "outputs": [],
   "source": [
    "select * from dev.bronze.emp"
   ]
  },
  {
   "cell_type": "code",
   "execution_count": 0,
   "metadata": {
    "application/vnd.databricks.v1+cell": {
     "cellMetadata": {
      "byteLimit": 2048000,
      "rowLimit": 10000
     },
     "inputWidgets": {},
     "nuid": "6e2ba28f-832e-4b2f-8fe6-432c68bf9329",
     "showTitle": false,
     "tableResultSettingsMap": {},
     "title": ""
    }
   },
   "outputs": [],
   "source": [
    "-- create updates table\n",
    "CREATE TABLE IF NOT EXISTS dev.bronze.emp_updates(\n",
    "  emp_id INT,\n",
    "  emp_name STRING,\n",
    "  dept_code STRING,\n",
    "  salary DOUBLE\n",
    ");"
   ]
  },
  {
   "cell_type": "code",
   "execution_count": 0,
   "metadata": {
    "application/vnd.databricks.v1+cell": {
     "cellMetadata": {
      "byteLimit": 2048000,
      "rowLimit": 10000
     },
     "inputWidgets": {},
     "nuid": "bd8b24d0-3df2-48dc-9736-0af74c4973ea",
     "showTitle": false,
     "tableResultSettingsMap": {},
     "title": ""
    }
   },
   "outputs": [],
   "source": [
    "-- Insert Records to update\n",
    "INSERT INTO dev.bronze.emp_updates\n",
    "VALUES (1001, 'John', 'D101', 150000),\n",
    "       (1002, 'Mary', 'D101', 130000),\n",
    "       (1004, 'Rahim', 'D103', 1500000)"
   ]
  },
  {
   "cell_type": "code",
   "execution_count": 0,
   "metadata": {
    "application/vnd.databricks.v1+cell": {
     "cellMetadata": {
      "byteLimit": 2048000,
      "rowLimit": 10000
     },
     "inputWidgets": {},
     "nuid": "c49ab042-27fc-44cb-bebe-cf3c37ec3a03",
     "showTitle": false,
     "tableResultSettingsMap": {},
     "title": ""
    }
   },
   "outputs": [],
   "source": [
    "-- Insert new records\n",
    "INSERT INTO dev.bronze.emp_updates VALUES (1005, 'Rajesh', 'D103', 1500000);"
   ]
  },
  {
   "cell_type": "code",
   "execution_count": 0,
   "metadata": {
    "application/vnd.databricks.v1+cell": {
     "cellMetadata": {
      "byteLimit": 2048000,
      "rowLimit": 10000
     },
     "inputWidgets": {},
     "nuid": "6b6154cf-dca8-45bb-9671-34a89c69a44e",
     "showTitle": false,
     "tableResultSettingsMap": {},
     "title": ""
    }
   },
   "outputs": [],
   "source": [
    "-- Data in Updates table\n",
    "select * from dev.bronze.emp_updates"
   ]
  },
  {
   "cell_type": "code",
   "execution_count": 0,
   "metadata": {
    "application/vnd.databricks.v1+cell": {
     "cellMetadata": {
      "byteLimit": 2048000,
      "rowLimit": 10000
     },
     "inputWidgets": {},
     "nuid": "bd92859e-5ec9-4f4b-b1b1-8b75aefbdca5",
     "showTitle": false,
     "tableResultSettingsMap": {},
     "title": ""
    }
   },
   "outputs": [],
   "source": [
    "-- Merge data to Update existing records and Insert new records\n",
    "\n",
    "MERGE INTO dev.bronze.emp e\n",
    "USING dev.bronze.emp_updates u\n",
    "ON e.emp_id = u.emp_id\n",
    "WHEN MATCHED THEN\n",
    "UPDATE SET\n",
    "  e.salary = u.salary\n",
    "WHEN NOT MATCHED THEN\n",
    "INSERT *\n",
    ";"
   ]
  },
  {
   "cell_type": "code",
   "execution_count": 0,
   "metadata": {
    "application/vnd.databricks.v1+cell": {
     "cellMetadata": {
      "byteLimit": 2048000,
      "rowLimit": 10000
     },
     "inputWidgets": {},
     "nuid": "1f99cc7e-7797-470d-889f-9e0d587a4cbd",
     "showTitle": false,
     "tableResultSettingsMap": {},
     "title": ""
    }
   },
   "outputs": [],
   "source": [
    "select * from dev.bronze.emp;"
   ]
  },
  {
   "cell_type": "code",
   "execution_count": 0,
   "metadata": {
    "application/vnd.databricks.v1+cell": {
     "cellMetadata": {
      "byteLimit": 2048000,
      "rowLimit": 10000
     },
     "inputWidgets": {},
     "nuid": "5794a813-41f4-49ca-b775-130cf85aa4f8",
     "showTitle": false,
     "tableResultSettingsMap": {},
     "title": ""
    }
   },
   "outputs": [],
   "source": [
    "MERGE INTO dev.bronze.emp e\n",
    "USING dev.bronze.emp_updates u\n",
    "ON e.emp_id = u.emp_id\n",
    "WHEN MATCHED THEN\n",
    "UPDATE SET\n",
    "  e.salary = u.salary\n",
    "WHEN NOT MATCHED THEN\n",
    "INSERT *\n",
    "WHEN NOT MATCHED BY SOURCE THEN\n",
    "DELETE\n",
    ";"
   ]
  },
  {
   "cell_type": "code",
   "execution_count": 0,
   "metadata": {
    "application/vnd.databricks.v1+cell": {
     "cellMetadata": {
      "byteLimit": 2048000,
      "rowLimit": 10000
     },
     "inputWidgets": {},
     "nuid": "cb4cdd1c-4aae-4e3f-979c-bc7a235145f6",
     "showTitle": false,
     "tableResultSettingsMap": {},
     "title": ""
    }
   },
   "outputs": [],
   "source": [
    "INSERT INTO dev.bronze.emp VALUES (1003, 'Satish', 'D103', 1500000);"
   ]
  },
  {
   "cell_type": "code",
   "execution_count": 0,
   "metadata": {
    "application/vnd.databricks.v1+cell": {
     "cellMetadata": {
      "byteLimit": 2048000,
      "rowLimit": 10000
     },
     "inputWidgets": {},
     "nuid": "96d5f812-9a88-41ef-a88f-5c96eec151fd",
     "showTitle": false,
     "tableResultSettingsMap": {
      "0": {
       "dataGridStateBlob": "{\"version\":1,\"tableState\":{\"columnPinning\":{\"left\":[\"#row_number#\"],\"right\":[]},\"columnSizing\":{},\"columnVisibility\":{}},\"settings\":{\"columns\":{}},\"syncTimestamp\":1755608058500}",
       "filterBlob": null,
       "queryPlanFiltersBlob": null,
       "tableResultIndex": 0
      }
     },
     "title": ""
    }
   },
   "outputs": [],
   "source": [
    "select * from dev.bronze.emp;"
   ]
  },
  {
   "cell_type": "code",
   "execution_count": 0,
   "metadata": {
    "application/vnd.databricks.v1+cell": {
     "cellMetadata": {
      "byteLimit": 2048000,
      "rowLimit": 10000
     },
     "inputWidgets": {},
     "nuid": "0545b6d9-7c73-4003-baed-8e7154d076ba",
     "showTitle": false,
     "tableResultSettingsMap": {},
     "title": ""
    }
   },
   "outputs": [],
   "source": [
    "ALTER TABLE dev.bronze.emp ADD COLUMN is_active STRING;"
   ]
  },
  {
   "cell_type": "code",
   "execution_count": 0,
   "metadata": {
    "application/vnd.databricks.v1+cell": {
     "cellMetadata": {
      "byteLimit": 2048000,
      "rowLimit": 10000
     },
     "inputWidgets": {},
     "nuid": "aa68395c-872f-48bf-8c70-2abefea80845",
     "showTitle": false,
     "tableResultSettingsMap": {},
     "title": ""
    }
   },
   "outputs": [],
   "source": [
    "--- soft delete\n",
    "\n",
    "MERGE INTO dev.bronze.emp e\n",
    "USING dev.bronze.emp_updates u\n",
    "ON e.emp_id = u.emp_id\n",
    "WHEN MATCHED THEN\n",
    "UPDATE SET\n",
    "  e.salary = u.salary,\n",
    "  e.is_active = 'Y'\n",
    "WHEN NOT MATCHED THEN\n",
    "INSERT (\n",
    "  emp_id,\n",
    "  emp_name,\n",
    "  dept_code,\n",
    "  salary,\n",
    "  is_active\n",
    ")\n",
    "VALUES (\n",
    "  u.emp_id,\n",
    "  u.emp_name,\n",
    "  u.dept_code,\n",
    "  u.salary,\n",
    "  'Y'\n",
    ")\n",
    "WHEN NOT MATCHED BY SOURCE THEN\n",
    "UPDATE SET\n",
    "e.is_active = 'N'\n",
    ";"
   ]
  },
  {
   "cell_type": "code",
   "execution_count": 0,
   "metadata": {
    "application/vnd.databricks.v1+cell": {
     "cellMetadata": {
      "byteLimit": 2048000,
      "rowLimit": 10000
     },
     "inputWidgets": {},
     "nuid": "29c41846-b3a6-4a3b-83db-6cf66c7ddded",
     "showTitle": false,
     "tableResultSettingsMap": {},
     "title": ""
    }
   },
   "outputs": [],
   "source": [
    "select * from dev.bronze.emp;"
   ]
  },
  {
   "cell_type": "code",
   "execution_count": 0,
   "metadata": {
    "application/vnd.databricks.v1+cell": {
     "cellMetadata": {},
     "inputWidgets": {},
     "nuid": "1cdb8275-1482-4cf4-b359-74827b918720",
     "showTitle": false,
     "tableResultSettingsMap": {},
     "title": ""
    }
   },
   "outputs": [],
   "source": []
  }
 ],
 "metadata": {
  "application/vnd.databricks.v1+notebook": {
   "computePreferences": null,
   "dashboards": [],
   "environmentMetadata": {
    "base_environment": "",
    "environment_version": "2"
   },
   "inputWidgetPreferences": null,
   "language": "sql",
   "notebookMetadata": {
    "pythonIndentUnit": 4
   },
   "notebookName": "Merge_&_Upserts",
   "widgets": {}
  },
  "language_info": {
   "name": "sql"
  }
 },
 "nbformat": 4,
 "nbformat_minor": 0
}
