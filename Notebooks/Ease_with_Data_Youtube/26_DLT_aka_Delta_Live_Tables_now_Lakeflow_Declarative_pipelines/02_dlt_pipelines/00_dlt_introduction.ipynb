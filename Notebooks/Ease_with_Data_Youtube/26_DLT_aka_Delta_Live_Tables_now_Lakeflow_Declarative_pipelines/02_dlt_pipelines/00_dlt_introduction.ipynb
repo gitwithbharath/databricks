{
 "cells": [
  {
   "cell_type": "code",
   "execution_count": 0,
   "metadata": {
    "application/vnd.databricks.v1+cell": {
     "cellMetadata": {},
     "inputWidgets": {},
     "nuid": "32fcede6-ff8e-4c3c-8823-f223970611c5",
     "showTitle": false,
     "tableResultSettingsMap": {},
     "title": ""
    }
   },
   "outputs": [],
   "source": [
    "# DLT works with three types of Datasets\n",
    "# Streaming Tables (Permanent/Temporary) -- used as Append Data Sources, Incremental Data\n",
    "# Materialized Views - used for trnsformations, aggregations or computations\n",
    "# Views - used for intermediate Transformations, not stored in target schema\n",
    "\n",
    "import dlt"
   ]
  },
  {
   "cell_type": "code",
   "execution_count": 0,
   "metadata": {
    "application/vnd.databricks.v1+cell": {
     "cellMetadata": {},
     "inputWidgets": {},
     "nuid": "d017c6de-58a3-4272-84a6-e4b26fd5bf48",
     "showTitle": false,
     "tableResultSettingsMap": {},
     "title": ""
    }
   },
   "outputs": [],
   "source": [
    "# create a streaming table for orders\n",
    "@dlt.table(\n",
    "    table_properties = { \"quality\": \"bronze\"},\n",
    "    comment = \"Order bronze table\"\n",
    ")\n",
    "def orders_bronze():\n",
    "    df = spark.readStream.table(\"dev.bronze.orders_raw\")\n",
    "    return df\n",
    "\n",
    "\n",
    "\n",
    "# Create a Materialized View for customer\n",
    "\n",
    "@dlt.table(\n",
    "    table_properties = { \"quality\": \"bronze\"},\n",
    "    comment = \"Customer bronze table\"\n",
    "    name = \"customer_bronze\"\n",
    ")\n",
    "def cust_bronze():\n",
    "    df = spark.read.table(\"dev.bronze.customer_raw\")\n",
    "    return df"
   ]
  },
  {
   "cell_type": "code",
   "execution_count": 0,
   "metadata": {
    "application/vnd.databricks.v1+cell": {
     "cellMetadata": {},
     "inputWidgets": {},
     "nuid": "3145cfc4-53a2-4cf4-a5fe-2747c3514e60",
     "showTitle": false,
     "tableResultSettingsMap": {},
     "title": ""
    }
   },
   "outputs": [],
   "source": [
    "# create a view to join orders with customer\n",
    "@dlt.view(\n",
    "    comment = \"joined view\"\n",
    ")\n",
    "def joined_vw():\n",
    "    df_c = spark.read.table(\"LIVE.customer_bronze\")\n",
    "    df_o = spark.read.table(\"LIVE.orders_bronze\")\n",
    "    \n",
    "    df_join = df_o.join(df_c, how=\"left_outer\", on=df_c.c_custKey == df_o.o_custKey)\n",
    "    return df_join"
   ]
  },
  {
   "cell_type": "code",
   "execution_count": 0,
   "metadata": {
    "application/vnd.databricks.v1+cell": {
     "cellMetadata": {},
     "inputWidgets": {},
     "nuid": "9f7f46cf-5f43-416d-858d-ac8a400b28e4",
     "showTitle": false,
     "tableResultSettingsMap": {},
     "title": ""
    }
   },
   "outputs": [],
   "source": [
    "# create MV( Materialized View ) to add new column\n",
    "\n",
    "from pyspark.sql.functions import current_timestamp\n",
    "\n",
    "@dlt.table(\n",
    "    table_properties = { \"quality\": \"silver\"},\n",
    "    comment = \"joined table\",\n",
    "    name = \"joined_silver\"\n",
    ")\n",
    "def joined_silver():\n",
    "    df = spark.read.table(\"LIVE.joined_vw\").withColumn(\"__insert_date\", current_timestamp())\n",
    "    return df"
   ]
  },
  {
   "cell_type": "code",
   "execution_count": 0,
   "metadata": {
    "application/vnd.databricks.v1+cell": {
     "cellMetadata": {},
     "inputWidgets": {},
     "nuid": "cd34208a-cf39-4c90-92e5-02526d1b8a50",
     "showTitle": false,
     "tableResultSettingsMap": {},
     "title": ""
    }
   },
   "outputs": [],
   "source": [
    "# Aggregate based on c_mktSegment and find the count of order (o_orderKey)\n",
    "\n",
    "@dlt.table(\n",
    "    table_properties = { \"quality\": \"gold\"},\n",
    "    comment = \"orders Aggregated table\"\n",
    ")\n",
    "def orders_agg_gold():\n",
    "    df = spark.read.table(\"LIVE.joined_silver\")\n",
    "    df_final = df.groupBy(\"c_mktSegment\").agg(count(\"o_orderKey\").alias(\"sum_orders\")).withColumn(\"__insert_date\", current_timestamp())\n",
    "    return df_final"
   ]
  }
 ],
 "metadata": {
  "application/vnd.databricks.v1+notebook": {
   "computePreferences": null,
   "dashboards": [],
   "environmentMetadata": {
    "base_environment": "",
    "environment_version": "2"
   },
   "inputWidgetPreferences": null,
   "language": "python",
   "notebookMetadata": {
    "pythonIndentUnit": 4
   },
   "notebookName": "00_dlt_introduction",
   "widgets": {}
  },
  "language_info": {
   "name": "python"
  }
 },
 "nbformat": 4,
 "nbformat_minor": 0
}
