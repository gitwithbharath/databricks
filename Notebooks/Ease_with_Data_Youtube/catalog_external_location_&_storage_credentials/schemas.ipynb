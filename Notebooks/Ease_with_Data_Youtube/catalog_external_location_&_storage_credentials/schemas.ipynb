{
 "cells": [
  {
   "cell_type": "code",
   "execution_count": 0,
   "metadata": {
    "application/vnd.databricks.v1+cell": {
     "cellMetadata": {
      "byteLimit": 2048000,
      "rowLimit": 10000
     },
     "inputWidgets": {},
     "nuid": "0637dd31-1842-47c1-8cc1-dd1c4e5281a7",
     "showTitle": false,
     "tableResultSettingsMap": {},
     "title": ""
    }
   },
   "outputs": [],
   "source": [
    "CREATE SCHEMA IF NOT EXISTS dev.bronze\n",
    "COMMENT 'This is schema in DEV catalog without external location'\n",
    ";"
   ]
  },
  {
   "cell_type": "code",
   "execution_count": 0,
   "metadata": {
    "application/vnd.databricks.v1+cell": {
     "cellMetadata": {
      "byteLimit": 2048000,
      "rowLimit": 10000
     },
     "inputWidgets": {},
     "nuid": "5cf92c2f-8ed5-4d57-9d21-ce749c383ff0",
     "showTitle": false,
     "tableResultSettingsMap": {},
     "title": ""
    }
   },
   "outputs": [],
   "source": [
    "-- create SCHEMA without external location in DEV_EXT catalog\n",
    "CREATE SCHEMA IF NOT EXISTS dev_ext.bronze\n",
    "COMMENT 'This is schema in DEV_EXT catalog without external location'\n",
    ";"
   ]
  },
  {
   "cell_type": "code",
   "execution_count": 0,
   "metadata": {
    "application/vnd.databricks.v1+cell": {
     "cellMetadata": {
      "byteLimit": 2048000,
      "rowLimit": 10000
     },
     "inputWidgets": {},
     "nuid": "76d1a950-7f2c-433d-9e3d-3eba00fd0233",
     "showTitle": false,
     "tableResultSettingsMap": {},
     "title": ""
    }
   },
   "outputs": [],
   "source": [
    "-- create External location for Schema\n",
    "CREATE EXTERNAL LOCATION IF NOT EXISTS ext_schema\n",
    "URL 'abfss://data@adbbharath01.dfs.core.windows.net/adb/schema'\n",
    "WITH (STORAGE CREDENTIAL sc_catalog_storage)\n",
    ";"
   ]
  },
  {
   "cell_type": "code",
   "execution_count": 0,
   "metadata": {
    "application/vnd.databricks.v1+cell": {
     "cellMetadata": {
      "byteLimit": 2048000,
      "rowLimit": 10000
     },
     "inputWidgets": {},
     "nuid": "922642c6-2a40-4089-b8fd-26f6cac4065a",
     "showTitle": false,
     "tableResultSettingsMap": {},
     "title": ""
    }
   },
   "outputs": [],
   "source": [
    "-- create SCHEMA with external location in DEV_EXT catalog\n",
    "CREATE SCHEMA IF NOT EXISTS dev_ext.bronze_ext\n",
    "MANAGED LOCATION 'abfss://data@adbbharath01.dfs.core.windows.net/adb/schema'\n",
    "COMMENT 'This is schema in DEV_EXT catalog with external location'\n",
    ";"
   ]
  },
  {
   "cell_type": "code",
   "execution_count": 0,
   "metadata": {
    "application/vnd.databricks.v1+cell": {
     "cellMetadata": {},
     "inputWidgets": {},
     "nuid": "c4ba9966-531a-4049-953e-d7cb46234115",
     "showTitle": false,
     "tableResultSettingsMap": {},
     "title": ""
    }
   },
   "outputs": [],
   "source": [
    "DROP TABLE IF EXISTS dev.bronze.raw_sales;\n",
    "DROP TABLE IF EXISTS dev_ext.bronze.raw_sales;\n",
    "DROP TABLE IF EXISTS dev_ext.bronze_ext.raw_sales;"
   ]
  },
  {
   "cell_type": "code",
   "execution_count": 0,
   "metadata": {
    "application/vnd.databricks.v1+cell": {
     "cellMetadata": {
      "byteLimit": 2048000,
      "rowLimit": 10000
     },
     "inputWidgets": {},
     "nuid": "9c91fd48-2049-44cd-816a-a11db7e6c406",
     "showTitle": false,
     "tableResultSettingsMap": {},
     "title": ""
    }
   },
   "outputs": [],
   "source": [
    "-- create table raw_sales in all three schema\n",
    "\n",
    "create table if not exists dev.bronze.raw_sales(\n",
    "  invoice_id string,\n",
    "  cust_id string,\n",
    "  product_code string,\n",
    "  QTY double,\n",
    "  PRICE double\n",
    ");\n",
    "\n",
    "create table if not exists dev_ext.bronze.raw_sales(\n",
    "  invoice_id string,\n",
    "  cust_id string,\n",
    "  product_code string,\n",
    "  QTY double,\n",
    "  PRICE double\n",
    ");\n",
    "\n",
    "create table if not exists dev_ext.bronze_ext.raw_sales(\n",
    "  invoice_id string,\n",
    "  cust_id string,\n",
    "  product_code string,\n",
    "  QTY double,\n",
    "  PRICE double\n",
    ");"
   ]
  },
  {
   "cell_type": "code",
   "execution_count": 0,
   "metadata": {
    "application/vnd.databricks.v1+cell": {
     "cellMetadata": {
      "byteLimit": 2048000,
      "rowLimit": 10000
     },
     "inputWidgets": {},
     "nuid": "0ba7f4a6-bbd1-4f6e-a8cc-661873a7a75e",
     "showTitle": false,
     "tableResultSettingsMap": {},
     "title": ""
    }
   },
   "outputs": [],
   "source": [
    "-- truncate table\n",
    "DROP TABLE IF EXISTS dev.bronze.raw_sales;\n",
    "DROP TABLE IF EXISTS dev_ext.bronze.raw_sales;\n",
    "DROP TABLE IF EXISTS dev_ext.bronze_ext.raw_sales;\n"
   ]
  },
  {
   "cell_type": "code",
   "execution_count": 0,
   "metadata": {
    "application/vnd.databricks.v1+cell": {
     "cellMetadata": {
      "byteLimit": 2048000,
      "rowLimit": 10000
     },
     "inputWidgets": {},
     "nuid": "77ba293a-0952-4d88-a466-be547485355d",
     "showTitle": false,
     "tableResultSettingsMap": {},
     "title": ""
    }
   },
   "outputs": [],
   "source": [
    "-- insert data\n",
    "\n",
    "insert into dev.bronze.raw_sales values('INV001','C001','P001',10,100);\n",
    "insert into dev_ext.bronze.raw_sales values('INV002','C002','P002',20,200);\n",
    "insert into dev_ext.bronze_ext.raw_sales values('INV003','C003','P003',30,300);"
   ]
  },
  {
   "cell_type": "code",
   "execution_count": 0,
   "metadata": {
    "application/vnd.databricks.v1+cell": {
     "cellMetadata": {
      "byteLimit": 2048000,
      "rowLimit": 10000
     },
     "inputWidgets": {},
     "nuid": "a4aed549-89af-4330-95ed-49c5afd928be",
     "showTitle": false,
     "tableResultSettingsMap": {},
     "title": ""
    }
   },
   "outputs": [],
   "source": [
    "-- describe to see the data locations\n",
    "\n",
    "DESCRIBE TABLE EXTENDED dev.bronze.raw_sales;\n"
   ]
  },
  {
   "cell_type": "code",
   "execution_count": 0,
   "metadata": {
    "application/vnd.databricks.v1+cell": {
     "cellMetadata": {
      "byteLimit": 2048000,
      "rowLimit": 10000
     },
     "inputWidgets": {},
     "nuid": "19eb21fc-75c0-49c3-9922-8dc369ca2477",
     "showTitle": false,
     "tableResultSettingsMap": {},
     "title": ""
    }
   },
   "outputs": [],
   "source": [
    "DESCRIBE TABLE EXTENDED dev_ext.bronze.raw_sales;\n"
   ]
  },
  {
   "cell_type": "code",
   "execution_count": 0,
   "metadata": {
    "application/vnd.databricks.v1+cell": {
     "cellMetadata": {
      "byteLimit": 2048000,
      "rowLimit": 10000
     },
     "inputWidgets": {},
     "nuid": "87c738af-73e4-469d-bce3-16d81a06dfaf",
     "showTitle": false,
     "tableResultSettingsMap": {},
     "title": ""
    }
   },
   "outputs": [],
   "source": [
    "DESCRIBE TABLE EXTENDED dev_ext.bronze_ext.raw_sales;"
   ]
  }
 ],
 "metadata": {
  "application/vnd.databricks.v1+notebook": {
   "computePreferences": null,
   "dashboards": [],
   "environmentMetadata": {
    "base_environment": "",
    "environment_version": "2"
   },
   "inputWidgetPreferences": null,
   "language": "sql",
   "notebookMetadata": {
    "pythonIndentUnit": 4
   },
   "notebookName": "schemas",
   "widgets": {}
  },
  "language_info": {
   "name": "sql"
  }
 },
 "nbformat": 4,
 "nbformat_minor": 0
}
