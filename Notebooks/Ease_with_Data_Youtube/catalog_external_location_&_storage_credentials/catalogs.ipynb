{
 "cells": [
  {
   "cell_type": "markdown",
   "metadata": {
    "application/vnd.databricks.v1+cell": {
     "cellMetadata": {},
     "inputWidgets": {},
     "nuid": "523626e0-bd7a-4f3c-9f87-5fe7ba831c90",
     "showTitle": false,
     "tableResultSettingsMap": {},
     "title": ""
    }
   },
   "source": [
    "When creating the managed table in unity catalog, first it will check for external location at schema level, then catalog level, and then metstore level.\n",
    "\n",
    "Suppose, if we didn't create external location while creating metastore then what will happen?\n",
    "\n",
    "In that case, when you are creating a new catalog in a metastore, then you have to specify the location for catalog and it is mandatory.\n",
    "\n"
   ]
  },
  {
   "cell_type": "markdown",
   "metadata": {
    "application/vnd.databricks.v1+cell": {
     "cellMetadata": {},
     "inputWidgets": {},
     "nuid": "4a88e542-7140-4b93-93c6-da268f9f9f64",
     "showTitle": false,
     "tableResultSettingsMap": {},
     "title": ""
    }
   },
   "source": [
    "\n"
   ]
  },
  {
   "cell_type": "code",
   "execution_count": 0,
   "metadata": {
    "application/vnd.databricks.v1+cell": {
     "cellMetadata": {},
     "inputWidgets": {},
     "nuid": "67d59a40-23e9-4575-ba60-39d5e387d0ef",
     "showTitle": false,
     "tableResultSettingsMap": {},
     "title": ""
    }
   },
   "outputs": [],
   "source": [
    "%sql\n",
    "DROP CATALOG IF EXISTS dev CASCADE;\n",
    "\n",
    "CREATE CATALOG IF NOT EXISTS dev\n",
    "COMMENT 'This Catalog is created using SQL';"
   ]
  },
  {
   "cell_type": "code",
   "execution_count": 0,
   "metadata": {
    "application/vnd.databricks.v1+cell": {
     "cellMetadata": {},
     "inputWidgets": {},
     "nuid": "5c19d9b2-ac0e-4099-b4c5-162f18eb4638",
     "showTitle": false,
     "tableResultSettingsMap": {},
     "title": ""
    }
   },
   "outputs": [],
   "source": [
    "DESCRIBE CATALOG EXTENDED dev;"
   ]
  },
  {
   "cell_type": "code",
   "execution_count": 0,
   "metadata": {
    "application/vnd.databricks.v1+cell": {
     "cellMetadata": {
      "byteLimit": 2048000,
      "rowLimit": 10000
     },
     "inputWidgets": {},
     "nuid": "8770450c-1e91-482f-89c5-494f82ca0a1e",
     "showTitle": false,
     "tableResultSettingsMap": {},
     "title": ""
    }
   },
   "outputs": [],
   "source": [
    "-- CREATE CREDENTIAL sc_catalog_storage_test\n",
    "--   MANAGED IDENTITY 'MANAGED_IDENTITY_RESOURCE_ID'\n",
    "--   WITH (\n",
    "--     'access_connector_id' = '/subscriptions/b37656d0-2c7c-4cc1-8b18-b97f3dc5be4d/resourceGroups/bharath-adb-rg/providers/Microsoft.Databricks/accessConnectors/adb-uc-connector'\n",
    "--   )\n",
    "--   COMMENT 'Credential for accessing Azure Data Lake Storage Gen2';"
   ]
  },
  {
   "cell_type": "code",
   "execution_count": 0,
   "metadata": {
    "application/vnd.databricks.v1+cell": {
     "cellMetadata": {
      "byteLimit": 2048000,
      "rowLimit": 10000
     },
     "inputWidgets": {},
     "nuid": "73f4e8a9-bced-462e-b221-2a8714d665a0",
     "showTitle": false,
     "tableResultSettingsMap": {},
     "title": ""
    }
   },
   "outputs": [],
   "source": [
    "-- create EXTERNAL LOCATION\n",
    "CREATE EXTERNAL LOCATION IF NOT EXISTS ext_catalog\n",
    "  URL 'abfss://data@adbbharath01.dfs.core.windows.net/adb/catalog'\n",
    "  WITH (STORAGE CREDENTIAL sc_catalog_storage)\n",
    "  COMMENT 'External location for dev catalog';"
   ]
  },
  {
   "cell_type": "code",
   "execution_count": 0,
   "metadata": {
    "application/vnd.databricks.v1+cell": {
     "cellMetadata": {},
     "inputWidgets": {},
     "nuid": "91c2874b-900c-436f-8129-9b14406fdf82",
     "showTitle": false,
     "tableResultSettingsMap": {},
     "title": ""
    }
   },
   "outputs": [],
   "source": [
    "-- create CATALOG with EXTERNAL LOCATION FOR MANAGED TABLES\n",
    "CREATE CATALOG IF NOT EXISTS dev_ext\n",
    "MANAGED LOCATION 'abfss://data@adbbharath01.dfs.core.windows.net/adb/catalog'\n",
    "COMMENT 'This is an external storage catalog'\n",
    ";"
   ]
  },
  {
   "cell_type": "code",
   "execution_count": 0,
   "metadata": {
    "application/vnd.databricks.v1+cell": {
     "cellMetadata": {
      "byteLimit": 2048000,
      "rowLimit": 10000
     },
     "inputWidgets": {},
     "nuid": "3a45bdc6-46f5-41f7-a4da-4033e9452f6f",
     "showTitle": false,
     "tableResultSettingsMap": {},
     "title": ""
    }
   },
   "outputs": [],
   "source": [
    "DESCRIBE CATALOG EXTENDED dev_ext;"
   ]
  },
  {
   "cell_type": "code",
   "execution_count": 0,
   "metadata": {
    "application/vnd.databricks.v1+cell": {
     "cellMetadata": {},
     "inputWidgets": {},
     "nuid": "412f4a20-9a39-4a82-8ecf-b60a222226de",
     "showTitle": false,
     "tableResultSettingsMap": {},
     "title": ""
    }
   },
   "outputs": [],
   "source": []
  }
 ],
 "metadata": {
  "application/vnd.databricks.v1+notebook": {
   "computePreferences": null,
   "dashboards": [],
   "environmentMetadata": {
    "base_environment": "",
    "environment_version": "2"
   },
   "inputWidgetPreferences": null,
   "language": "sql",
   "notebookMetadata": {
    "pythonIndentUnit": 4
   },
   "notebookName": "catalogs",
   "widgets": {}
  },
  "language_info": {
   "name": "sql"
  }
 },
 "nbformat": 4,
 "nbformat_minor": 0
}
