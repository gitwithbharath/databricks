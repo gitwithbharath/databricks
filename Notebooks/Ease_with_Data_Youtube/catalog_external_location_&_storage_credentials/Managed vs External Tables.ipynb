{
 "cells": [
  {
   "cell_type": "code",
   "execution_count": 0,
   "metadata": {
    "application/vnd.databricks.v1+cell": {
     "cellMetadata": {
      "byteLimit": 2048000,
      "rowLimit": 10000
     },
     "inputWidgets": {},
     "nuid": "d723618c-29a2-41ae-a2c2-cdb91a0269bc",
     "showTitle": false,
     "tableResultSettingsMap": {},
     "title": ""
    }
   },
   "outputs": [],
   "source": [
    "-- create External location for Table\n",
    "CREATE EXTERNAL LOCATION IF NOT EXISTS ext_tables\n",
    "URL 'abfss://data@adbbharath01.dfs.core.windows.net/adb/ext_tables'\n",
    "WITH (STORAGE CREDENTIAL sc_catalog_storage)\n",
    ";"
   ]
  },
  {
   "cell_type": "code",
   "execution_count": 0,
   "metadata": {
    "application/vnd.databricks.v1+cell": {
     "cellMetadata": {
      "byteLimit": 2048000,
      "rowLimit": 10000
     },
     "inputWidgets": {},
     "nuid": "bc3f8f63-2bec-424c-90c2-504074b151df",
     "showTitle": false,
     "tableResultSettingsMap": {},
     "title": ""
    }
   },
   "outputs": [],
   "source": [
    "DROP TABLE IF EXISTS dev.bronze.SALE_MANAGED;\n",
    "DROP TABLE IF EXISTS dev_ext.bronze.SALE_EXTERNAL;"
   ]
  },
  {
   "cell_type": "code",
   "execution_count": 0,
   "metadata": {
    "application/vnd.databricks.v1+cell": {
     "cellMetadata": {
      "byteLimit": 2048000,
      "rowLimit": 10000
     },
     "inputWidgets": {},
     "nuid": "2d2b5f77-9c58-4fd8-a634-27860aeb6bf8",
     "showTitle": false,
     "tableResultSettingsMap": {},
     "title": ""
    }
   },
   "outputs": [],
   "source": [
    "-- create Table \n",
    "CREATE TABLE IF NOT EXISTS DEV.BRONZE.SALE_MANAGED\n",
    "(\n",
    "  invoice_id string,\n",
    "  cust_id string,\n",
    "  product_code string,\n",
    "  QTY double,\n",
    "  PRICE double\n",
    ");\n",
    "\n",
    "CREATE TABLE IF NOT EXISTS DEV.BRONZE.SALE_EXTERNAL\n",
    "(\n",
    "  invoice_id string,\n",
    "  cust_id string,\n",
    "  product_code string,\n",
    "  QTY double,\n",
    "  PRICE double\n",
    ")\n",
    "LOCATION 'abfss://data@adbbharath01.dfs.core.windows.net/adb/ext_tables/sales_external';\n",
    "\n"
   ]
  },
  {
   "cell_type": "code",
   "execution_count": 0,
   "metadata": {
    "application/vnd.databricks.v1+cell": {
     "cellMetadata": {
      "byteLimit": 2048000,
      "rowLimit": 10000
     },
     "inputWidgets": {},
     "nuid": "200d6ebb-3f8d-47b6-85e6-dcb09fb5ed9c",
     "showTitle": false,
     "tableResultSettingsMap": {},
     "title": ""
    }
   },
   "outputs": [],
   "source": [
    "-- INSERT DATA\n",
    "insert into dev.bronze.SALE_MANAGED values('INV001','C001','P001',10,100);\n",
    "insert into dev.bronze.sale_external values('INV002','C002','P002',20,200);"
   ]
  },
  {
   "cell_type": "code",
   "execution_count": 0,
   "metadata": {
    "application/vnd.databricks.v1+cell": {
     "cellMetadata": {
      "byteLimit": 2048000,
      "rowLimit": 10000
     },
     "inputWidgets": {},
     "nuid": "6142d337-69ff-47ed-ace1-9195ecde82ad",
     "showTitle": false,
     "tableResultSettingsMap": {},
     "title": ""
    }
   },
   "outputs": [],
   "source": [
    "DESCRIBE TABLE EXTENDED dev.bronze.sale_managed"
   ]
  },
  {
   "cell_type": "code",
   "execution_count": 0,
   "metadata": {
    "application/vnd.databricks.v1+cell": {
     "cellMetadata": {
      "byteLimit": 2048000,
      "rowLimit": 10000
     },
     "inputWidgets": {},
     "nuid": "2514fd32-d202-4972-a555-aa6e355ed339",
     "showTitle": false,
     "tableResultSettingsMap": {},
     "title": ""
    }
   },
   "outputs": [],
   "source": [
    "DESCRIBE TABLE EXTENDED dev.bronze.sale_external"
   ]
  },
  {
   "cell_type": "code",
   "execution_count": 0,
   "metadata": {
    "application/vnd.databricks.v1+cell": {
     "cellMetadata": {
      "byteLimit": 2048000,
      "rowLimit": 10000
     },
     "inputWidgets": {},
     "nuid": "00bf1bfe-a751-42ed-a7c7-d4a262c77008",
     "showTitle": false,
     "tableResultSettingsMap": {},
     "title": ""
    }
   },
   "outputs": [],
   "source": [
    "DROP TABLE IF EXISTS dev.bronze.sale_managed;\n",
    "DROP TABLE IF EXISTS dev.bronze.sale_external_test;"
   ]
  },
  {
   "cell_type": "code",
   "execution_count": 0,
   "metadata": {
    "application/vnd.databricks.v1+cell": {
     "cellMetadata": {
      "byteLimit": 2048000,
      "rowLimit": 10000
     },
     "inputWidgets": {},
     "nuid": "a662d955-1a06-426f-8dc6-31fe3c09c299",
     "showTitle": false,
     "tableResultSettingsMap": {},
     "title": ""
    }
   },
   "outputs": [],
   "source": [
    "USE CATALOG dev;\n",
    "\n",
    "SHOW TABLES DROPPED IN BRONZE;"
   ]
  },
  {
   "cell_type": "code",
   "execution_count": 0,
   "metadata": {
    "application/vnd.databricks.v1+cell": {
     "cellMetadata": {
      "byteLimit": 2048000,
      "rowLimit": 10000
     },
     "inputWidgets": {},
     "nuid": "f74e92b6-2b0c-4173-9ccd-e52a9269d3ad",
     "showTitle": false,
     "tableResultSettingsMap": {},
     "title": ""
    }
   },
   "outputs": [],
   "source": [
    "UNDROP TABLE WITH ID 'c32b5f35-bfdd-4f41-9c6d-e4b122713372'"
   ]
  }
 ],
 "metadata": {
  "application/vnd.databricks.v1+notebook": {
   "computePreferences": null,
   "dashboards": [],
   "environmentMetadata": {
    "base_environment": "",
    "environment_version": "2"
   },
   "inputWidgetPreferences": null,
   "language": "sql",
   "notebookMetadata": {
    "pythonIndentUnit": 4
   },
   "notebookName": "Managed vs External Tables",
   "widgets": {}
  },
  "language_info": {
   "name": "sql"
  }
 },
 "nbformat": 4,
 "nbformat_minor": 0
}
