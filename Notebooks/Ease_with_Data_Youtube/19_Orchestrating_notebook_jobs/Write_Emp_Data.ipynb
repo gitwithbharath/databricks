{
 "cells": [
  {
   "cell_type": "code",
   "execution_count": 0,
   "metadata": {
    "application/vnd.databricks.v1+cell": {
     "cellMetadata": {
      "byteLimit": 2048000,
      "rowLimit": 10000
     },
     "inputWidgets": {},
     "nuid": "ba5fdc10-028c-4d01-a935-98399ed6c0de",
     "showTitle": false,
     "tableResultSettingsMap": {},
     "title": ""
    }
   },
   "outputs": [],
   "source": [
    "# View data at location \n",
    "display(dbutils.fs.head(\"/databricks-datasets/retail-org/company_employees/company_employees.csv\"))"
   ]
  },
  {
   "cell_type": "code",
   "execution_count": 0,
   "metadata": {
    "application/vnd.databricks.v1+cell": {
     "cellMetadata": {
      "byteLimit": 2048000,
      "rowLimit": 10000
     },
     "inputWidgets": {},
     "nuid": "5b5bb7ff-d462-465b-ba74-8d128902bf70",
     "showTitle": false,
     "tableResultSettingsMap": {},
     "title": ""
    }
   },
   "outputs": [],
   "source": [
    "# create parameter dept\n",
    "dbutils.widgets.text(\"dept\", \"\", \"Department Name\")\n",
    "\n",
    "\n"
   ]
  },
  {
   "cell_type": "code",
   "execution_count": 0,
   "metadata": {
    "application/vnd.databricks.v1+cell": {
     "cellMetadata": {
      "byteLimit": 2048000,
      "rowLimit": 10000
     },
     "inputWidgets": {},
     "nuid": "be08a601-a1d3-48b1-8d8d-e1fa50ad0d91",
     "showTitle": false,
     "tableResultSettingsMap": {},
     "title": ""
    }
   },
   "outputs": [],
   "source": [
    "# Get the parameter in variable  _dept\n",
    "_dept = dbutils.widgets.get(\"dept\")\n",
    "\n",
    "# print Parameter value\n",
    "print(_dept)"
   ]
  },
  {
   "cell_type": "code",
   "execution_count": 0,
   "metadata": {
    "application/vnd.databricks.v1+cell": {
     "cellMetadata": {
      "byteLimit": 2048000,
      "rowLimit": 10000
     },
     "inputWidgets": {},
     "nuid": "a98e740f-df97-460b-840e-b9e2c38432ce",
     "showTitle": false,
     "tableResultSettingsMap": {},
     "title": ""
    }
   },
   "outputs": [],
   "source": [
    "# Read all data through spark\n",
    "\n",
    "df = spark.read.csv(\"/databricks-datasets/retail-org/company_employees/company_employees.csv\", header=True)\n",
    "\n",
    "display(df)"
   ]
  },
  {
   "cell_type": "code",
   "execution_count": 0,
   "metadata": {
    "application/vnd.databricks.v1+cell": {
     "cellMetadata": {
      "byteLimit": 2048000,
      "rowLimit": 10000
     },
     "inputWidgets": {},
     "nuid": "608e58e3-f63e-4767-88af-b7ef7ff9ee9c",
     "showTitle": false,
     "tableResultSettingsMap": {},
     "title": ""
    }
   },
   "outputs": [],
   "source": [
    "# Filter data based on department and active_record\n",
    "\n",
    "df_filtered = df.where(f\"upper(department) = upper('{_dept}') and active_record = '1'\")\n",
    "\n",
    "display(df_filtered)"
   ]
  },
  {
   "cell_type": "code",
   "execution_count": 0,
   "metadata": {
    "application/vnd.databricks.v1+cell": {
     "cellMetadata": {},
     "inputWidgets": {},
     "nuid": "90defdad-d740-4fd8-bb00-e45f6a752e38",
     "showTitle": false,
     "tableResultSettingsMap": {},
     "title": ""
    }
   },
   "outputs": [],
   "source": [
    "# write data to delta table with department name\n",
    "\n",
    "_count = df_filtered.count()\n",
    "\n",
    "if _count > 0:\n",
    "  df_filtered.write.mode(\"overwrite\").saveAsTable(f\"dev.bronze.dept_{_dept}\")\n",
    "  print(f\"Data Written for {_dept}\")\n",
    "  display(spark.table(f\"dev.bronze.dept_{_dept}\"))\n",
    "else:\n",
    "  print(f\"No Data Found for {_dept}\")"
   ]
  },
  {
   "cell_type": "code",
   "execution_count": 0,
   "metadata": {
    "application/vnd.databricks.v1+cell": {
     "cellMetadata": {},
     "inputWidgets": {},
     "nuid": "61cfc9c9-fd07-449e-86b6-258fc4a8c728",
     "showTitle": false,
     "tableResultSettingsMap": {},
     "title": ""
    }
   },
   "outputs": [],
   "source": [
    "# Exit Status as - number of records written\n",
    "\n",
    "dbutils.notebook.exit(_count)"
   ]
  }
 ],
 "metadata": {
  "application/vnd.databricks.v1+notebook": {
   "computePreferences": null,
   "dashboards": [],
   "environmentMetadata": {
    "base_environment": "",
    "environment_version": "2"
   },
   "inputWidgetPreferences": null,
   "language": "python",
   "notebookMetadata": {
    "pythonIndentUnit": 4
   },
   "notebookName": "Write_Emp_Data",
   "widgets": {
    "dept": {
     "currentValue": "sales",
     "nuid": "959faa17-5a9d-459b-bf06-1c62240d3bab",
     "typedWidgetInfo": {
      "autoCreated": false,
      "defaultValue": "",
      "label": "Department Name",
      "name": "dept",
      "options": {
       "widgetDisplayType": "Text",
       "validationRegex": null
      },
      "parameterDataType": "String"
     },
     "widgetInfo": {
      "widgetType": "text",
      "defaultValue": "",
      "label": "Department Name",
      "name": "dept",
      "options": {
       "widgetType": "text",
       "autoCreated": false,
       "validationRegex": null
      }
     }
    }
   }
  },
  "language_info": {
   "name": "python"
  }
 },
 "nbformat": 4,
 "nbformat_minor": 0
}
