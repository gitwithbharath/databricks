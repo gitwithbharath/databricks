{
 "cells": [
  {
   "cell_type": "code",
   "execution_count": 0,
   "metadata": {
    "application/vnd.databricks.v1+cell": {
     "cellMetadata": {
      "byteLimit": 2048000,
      "rowLimit": 10000
     },
     "inputWidgets": {},
     "nuid": "c5bd4a9c-550f-42df-ad09-8e17b11a6330",
     "showTitle": false,
     "tableResultSettingsMap": {},
     "title": ""
    }
   },
   "outputs": [],
   "source": [
    "create schema dev.bronze\n",
    "comment 'This is schema in dev catalog without ext loc'\n",
    ";"
   ]
  },
  {
   "cell_type": "code",
   "execution_count": 0,
   "metadata": {
    "application/vnd.databricks.v1+cell": {
     "cellMetadata": {
      "byteLimit": 2048000,
      "rowLimit": 10000
     },
     "inputWidgets": {},
     "nuid": "68d86307-2987-47f9-8e90-7aac43d75371",
     "showTitle": false,
     "tableResultSettingsMap": {},
     "title": ""
    }
   },
   "outputs": [],
   "source": [
    "create schema dev_ext.bronze\n",
    "comment 'This is schema in dev_ext catalog without ext loc'\n",
    ";"
   ]
  },
  {
   "cell_type": "code",
   "execution_count": 0,
   "metadata": {
    "application/vnd.databricks.v1+cell": {
     "cellMetadata": {},
     "inputWidgets": {},
     "nuid": "c360a659-4dc9-4240-9eba-ce2eb92a2dd3",
     "showTitle": false,
     "tableResultSettingsMap": {},
     "title": ""
    }
   },
   "outputs": [],
   "source": [
    "-- create external location for schema\n",
    "create external location ext_schema\n",
    "url 'abfss://data@adbbharath01.dfs.core.windows.net/adb/schema'\n",
    "with ( storage credential sc_catalog_storage) \n",
    ";"
   ]
  },
  {
   "cell_type": "code",
   "execution_count": 0,
   "metadata": {
    "application/vnd.databricks.v1+cell": {
     "cellMetadata": {
      "byteLimit": 2048000,
      "rowLimit": 10000
     },
     "inputWidgets": {},
     "nuid": "75340193-9354-4ca2-a25e-ee9fd0f86e82",
     "showTitle": false,
     "tableResultSettingsMap": {},
     "title": ""
    }
   },
   "outputs": [],
   "source": [
    "-- create schema with external location in dev_ext catalog\n",
    "\n",
    "create schema dev_ext.bronze_ext\n",
    "managed location 'abfss://data@adbbharath01.dfs.core.windows.net/adb/schema/bronze_ext'\n",
    "comment 'This is schema in dev_ext catalog with ext loc'\n",
    ";"
   ]
  },
  {
   "cell_type": "code",
   "execution_count": 0,
   "metadata": {
    "application/vnd.databricks.v1+cell": {
     "cellMetadata": {
      "byteLimit": 2048000,
      "rowLimit": 10000
     },
     "inputWidgets": {},
     "nuid": "217e51ee-5783-4119-af4a-d72ea0565da0",
     "showTitle": false,
     "tableResultSettingsMap": {},
     "title": ""
    }
   },
   "outputs": [],
   "source": [
    "-- create table raw_sales in all three schema\n",
    "\n",
    "create table dev.bronze.raw_sales(\n",
    "  invoice_id string,\n",
    "  cust_id string,\n",
    "  product_code string,\n",
    "  QTY double,\n",
    "  PRICE double\n",
    ");\n",
    "\n",
    "create table dev_ext.bronze.raw_sales(\n",
    "  invoice_id string,\n",
    "  cust_id string,\n",
    "  product_code string,\n",
    "  QTY double,\n",
    "  PRICE double\n",
    ");\n",
    "\n",
    "create table dev_ext.bronze_ext.raw_sales(\n",
    "  invoice_id string,\n",
    "  cust_id string,\n",
    "  product_code string,\n",
    "  QTY double,\n",
    "  PRICE double\n",
    ");"
   ]
  },
  {
   "cell_type": "code",
   "execution_count": 0,
   "metadata": {
    "application/vnd.databricks.v1+cell": {
     "cellMetadata": {
      "byteLimit": 2048000,
      "rowLimit": 10000
     },
     "inputWidgets": {},
     "nuid": "0817fb62-1b44-4213-b4f8-919e6e7da3e8",
     "showTitle": false,
     "tableResultSettingsMap": {},
     "title": ""
    }
   },
   "outputs": [],
   "source": [
    "-- insert data\n",
    "\n",
    "insert into dev.bronze.raw_sales values('INV001','C001','P001',10,100);\n",
    "insert into dev_ext.bronze.raw_sales values('INV002','C002','P002',20,200);\n",
    "insert into dev_ext.bronze_ext.raw_sales values('INV003','C003','P003',30,300);"
   ]
  }
 ],
 "metadata": {
  "application/vnd.databricks.v1+notebook": {
   "computePreferences": null,
   "dashboards": [],
   "environmentMetadata": {
    "base_environment": "",
    "environment_version": "2"
   },
   "inputWidgetPreferences": null,
   "language": "sql",
   "notebookMetadata": {
    "pythonIndentUnit": 4
   },
   "notebookName": "unity_catalog_schemas",
   "widgets": {}
  },
  "language_info": {
   "name": "sql"
  }
 },
 "nbformat": 4,
 "nbformat_minor": 0
}
